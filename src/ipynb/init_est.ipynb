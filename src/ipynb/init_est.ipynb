{
 "cells": [
  {
   "cell_type": "code",
   "execution_count": 23,
   "metadata": {},
   "outputs": [],
   "source": [
    "import pandas as pd\n",
    "from os import listdir\n",
    "\n",
    "files = listdir('../../dump_init_est')\n",
    "\n",
    "results = {}\n",
    "for file in files:\n",
    "    df = pd.read_csv('../../dump_init_est/' + file)    \n",
    "    df = df.drop(columns=['Unnamed: 0'])\n",
    "    results.setdefault(file.rsplit('.',1)[0], df.describe().loc['50%']) \n",
    "a = pd.DataFrame(results)\n",
    "a.to_csv('../../dump_init_est/complete.csv')"
   ]
  },
  {
   "cell_type": "code",
   "execution_count": null,
   "metadata": {},
   "outputs": [],
   "source": []
  }
 ],
 "metadata": {
  "kernelspec": {
   "display_name": "Python 3",
   "language": "python",
   "name": "python3"
  },
  "language_info": {
   "codemirror_mode": {
    "name": "ipython",
    "version": 3
   },
   "file_extension": ".py",
   "mimetype": "text/x-python",
   "name": "python",
   "nbconvert_exporter": "python",
   "pygments_lexer": "ipython3",
   "version": "3.7.0"
  }
 },
 "nbformat": 4,
 "nbformat_minor": 2
}
