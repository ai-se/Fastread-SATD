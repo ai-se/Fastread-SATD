{
 "cells": [
  {
   "cell_type": "code",
   "execution_count": 2,
   "metadata": {},
   "outputs": [
    {
     "name": "stderr",
     "output_type": "stream",
     "text": [
      "C:\\ProgramData\\Anaconda3\\lib\\site-packages\\matplotlib\\font_manager.py:1331: UserWarning: findfont: Font family ['normal'] not found. Falling back to DejaVu Sans\n",
      "  (prop.get_family(), self.defaultFamily[fontext]))\n"
     ]
    }
   ],
   "source": [
    "import pandas as pd\n",
    "from os import listdir\n",
    "import itertools\n",
    "import pickle\n",
    "import matplotlib.pyplot as plt\n",
    "import numpy as np\n",
    "names = ['   ant   ', ' jmeter  ', ' argouml ', ' columba ', '   emf   ', 'hibernate', '  jedit  ', 'jfreechart', '  jruby  ', '  sql12  ']\n",
    "results = {}\n",
    "ground_truth = {}\n",
    "folders = listdir('../../dump_supervised_no_est')\n",
    "for folder in folders:\n",
    "    files = listdir('../../dump_supervised_no_est/' + folder)\n",
    "    for file in files:\n",
    "        with open('../../dump_supervised_no_est/' + folder + '/' + file, \"rb\") as handle:\n",
    "            res = pickle.load(handle)\n",
    "            results[folder + '__' + file] = res['supervisedQ2']\n",
    "            ground_truth[file.rsplit('.',1)[0]] = res['true']\n",
    "dfs = {}\n",
    "learners = {}\n",
    "filenames = {}\n",
    "for file in files:\n",
    "    df = pd.DataFrame()\n",
    "    for i, x in results.items():\n",
    "        if file in i:\n",
    "            learner = i.split('__')[0]\n",
    "            filename = file.rsplit('.',1)[0]\n",
    "            total = ground_truth[filename][1]\n",
    "            pos = ground_truth[filename][0]\n",
    "            df[learner + '__cost'] = np.array(list(map(float,x['x'])))/total\n",
    "            df[learner + '__recall'] = np.array(list(map(float,x['pos'])))/pos\n",
    "            dfs[filename] = df\n",
    "            learners[learner] = learner\n",
    "            filenames[filename] = filename\n",
    "dfs['apache-ant-1.7.0']\n",
    "\n",
    "font = {'family': 'normal', 'size': 10}\n",
    "\n",
    "plt.rc('font', **font)\n",
    "paras = {'lines.linewidth': 2, 'legend.fontsize': 10, 'axes.labelsize': 10, 'legend.frameon': True,\n",
    "         'figure.autolayout': False, 'figure.figsize': (16, 12)}\n",
    "plt.rcParams.update(paras)\n",
    "\n",
    "fig = plt.figure()\n",
    "\n",
    "count = 0\n",
    "count2 = -1\n",
    "legends = {}\n",
    "for filename, _ in filenames.items():\n",
    "    count2 += 1\n",
    "    count += 1\n",
    "    if(count==3):\n",
    "        count +=2\n",
    "    ax=plt.subplot(3,4,count)\n",
    "    colors=['red', 'orange', 'brown', 'green', 'blue', 'indigo', 'violet']\n",
    "    style = ['+', 'd', 'o', 'v', '^', 's', '.']\n",
    "    count3 = 0\n",
    "    for learner, _ in learners.items():\n",
    "        df = dfs[filename]\n",
    "        x = df[learner + '__cost'].tolist()\n",
    "        y = df[learner + '__recall'].tolist()\n",
    "        legend_learner, = ax.plot(x, y, linewidth=2, color=colors[count3], markersize=4, markevery=100, marker=style[count3], linestyle='-',\n",
    "                            label=learner)\n",
    "        legends[learner] = legend_learner\n",
    "        count3 += 1\n",
    "    ax.annotate(names[count2], (.3,.01), color='k', fontsize=16, verticalalignment='bottom', horizontalalignment='left')\n",
    "        \n",
    "    plt.subplots_adjust(left=.1, right=1., wspace = 0.22, hspace = 0.35)\n",
    "    plt.ylabel(\"Recall\", fontweight='bold', fontsize=14)\n",
    "    plt.xlabel(\"Cost\", fontweight='bold', fontsize=14)\n",
    "    \n",
    "legend_name = []\n",
    "legends_plot = []\n",
    "for lgd, lrnr in legends.items():\n",
    "    legend_name.append(lgd)\n",
    "    legends_plot.append(lrnr)\n",
    "plt.figlegend(legends_plot, legend_name, loc=(.7,.66), fontsize=20)\n",
    "plt.savefig('../../test_figure/'+'no_est_all_learner_retrival'+\".png\")\n",
    "plt.savefig('../../test_figure/'+'no_est_all_learner_retrival'+\".pdf\")\n",
    "plt.close(fig)\n",
    "#plt.show()"
   ]
  },
  {
   "cell_type": "code",
   "execution_count": null,
   "metadata": {},
   "outputs": [],
   "source": []
  }
 ],
 "metadata": {
  "kernelspec": {
   "display_name": "Python 3",
   "language": "python",
   "name": "python3"
  },
  "language_info": {
   "codemirror_mode": {
    "name": "ipython",
    "version": 3
   },
   "file_extension": ".py",
   "mimetype": "text/x-python",
   "name": "python",
   "nbconvert_exporter": "python",
   "pygments_lexer": "ipython3",
   "version": "3.7.0"
  }
 },
 "nbformat": 4,
 "nbformat_minor": 2
}
