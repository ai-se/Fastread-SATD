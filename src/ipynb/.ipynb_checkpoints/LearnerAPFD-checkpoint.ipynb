{
 "cells": [
  {
   "cell_type": "code",
   "execution_count": 23,
   "metadata": {},
   "outputs": [
    {
     "data": {
      "image/png": "[encoded data removed]",
      "text/plain": [
       "<Figure size 864x864 with 1 Axes>"
      ]
     },
     "metadata": {
      "needs_background": "light"
     },
     "output_type": "display_data"
    }
   ],
   "source": [
    "import pandas as pd\n",
    "from os import listdir\n",
    "import itertools\n",
    "import pickle\n",
    "import matplotlib.pyplot as plt\n",
    "\n",
    "def get_file_and_clf_names(path):\n",
    "    folders = listdir(path)\n",
    "    clfs = []\n",
    "    filenames = []\n",
    "    for folder in folders:\n",
    "        clfs.append(folder)\n",
    "    for file in listdir(path + folders[0]):\n",
    "        if '.ipynb' in file:\n",
    "            continue\n",
    "        filenames.append(file.rsplit('.', 1)[0])\n",
    "        \n",
    "    return filenames, clfs\n",
    "\n",
    "def get_apfds(path, df, n):\n",
    "    folders = listdir(path)\n",
    "    for folder in folders:\n",
    "        files = listdir(path + folder)\n",
    "        for file in files:\n",
    "            if '.ipynb' in file:\n",
    "                continue\n",
    "            with open(path + folder + '/' + file, \"rb\") as handle:\n",
    "                res = pickle.load(handle)\n",
    "                for i in range(n):\n",
    "                    df.loc[folder][file.rsplit('.', 1)[0], i] = res['apfds']['supervised' + str(i)]\n",
    "    return df\n",
    "\n",
    "files, clfs = get_file_and_clf_names('../../all_dump_learner/')\n",
    "stat_cols = [x for x in range(10)]\n",
    "\n",
    "cols = list(itertools.product(files, stat_cols))\n",
    "multi_col = pd.MultiIndex.from_tuples(cols, names=['project', 'stats'])\n",
    "\n",
    "df = pd.DataFrame(index=clfs, columns=multi_col)\n",
    "\n",
    "\n",
    "df = get_apfds('../../all_dump_learner/', df, 10)\n",
    "\n",
    "\n",
    "fig = plt.figure(figsize=(12, 12))\n",
    "ax = fig.add_subplot(111)\n",
    "\n",
    "ax.set_xlabel('Learner', fontsize=22, fontweight='bold')\n",
    "ax.set_ylabel('APFD', fontsize=22, fontweight='bold')\n",
    "\n",
    "clfs = [\"svm_linear\", \"svm\", \"nbm\", 'boost_dt', 'dt', 'boost_nbm']\n",
    "df = df.reindex(clfs)\n",
    "\n",
    "ax.tick_params(axis='both', labelsize=22)\n",
    "ax.boxplot(df, showfliers=False, labels=clfs, vert=True, patch_artist=False, \n",
    "           boxprops=dict(linewidth=1), medianprops=dict(linewidth=2.5, color='k'))\n",
    "\n",
    "\n",
    "# fig.savefig('apfd_all_learner.png')\n",
    "# fig.savefig('apfd_all_learner.pdf')\n",
    "\n",
    "def get_score_str(col_name, df):\n",
    "    col = df.loc[col_name].tolist()\n",
    "    str1 = col_name + '\\n'\n",
    "    str1 += ' '.join(str(e) for e in col)\n",
    "    str1 += '\\n\\n'\n",
    "    return str1\n",
    "\n",
    "score_str = get_score_str('svm_linear', df)\n",
    "score_str += get_score_str('svm', df)\n",
    "score_str += get_score_str('nbm', df)\n",
    "score_str += get_score_str('boost_dt', df)\n",
    "score_str += get_score_str('dt', df)\n",
    "score_str += get_score_str('boost_nbm', df)\n",
    "file = open('apfds.txt', 'w')\n",
    "file.write(score_str)\n",
    "file.close()"
   ]
  },
  {
   "cell_type": "code",
   "execution_count": null,
   "metadata": {},
   "outputs": [],
   "source": []
  }
 ],
 "metadata": {
  "kernelspec": {
   "display_name": "Python 3",
   "language": "python",
   "name": "python3"
  },
  "language_info": {
   "codemirror_mode": {
    "name": "ipython",
    "version": 3
   },
   "file_extension": ".py",
   "mimetype": "text/x-python",
   "name": "python",
   "nbconvert_exporter": "python",
   "pygments_lexer": "ipython3",
   "version": "3.7.0"
  }
 },
 "nbformat": 4,
 "nbformat_minor": 2
}
